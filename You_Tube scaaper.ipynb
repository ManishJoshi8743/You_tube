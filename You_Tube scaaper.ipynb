{
 "cells": [
  {
   "cell_type": "code",
   "execution_count": 1,
   "id": "65bcda1e-dd6b-40f0-a2f2-9ad78bcf8d7d",
   "metadata": {},
   "outputs": [],
   "source": [
    "# pip  install tkinter"
   ]
  },
  {
   "cell_type": "code",
   "execution_count": 2,
   "id": "6a2e0e09-0c09-4dfc-9bc1-2fb59f621368",
   "metadata": {},
   "outputs": [],
   "source": [
    "# pip install custumtikiner"
   ]
  },
  {
   "cell_type": "code",
   "execution_count": 3,
   "id": "6b3eb51d-ae8b-4e1c-9a6e-8897bac0ea8e",
   "metadata": {},
   "outputs": [],
   "source": [
    "# pip install pytube"
   ]
  },
  {
   "cell_type": "code",
   "execution_count": 4,
   "id": "7dbd7a17-5532-42f0-b3db-e08f543da8fc",
   "metadata": {},
   "outputs": [],
   "source": [
    "import tkinter\n",
    "import customtkinter\n",
    "from pytube import YouTube"
   ]
  },
  {
   "cell_type": "code",
   "execution_count": 17,
   "id": "f33a10de-349d-4f1a-8ca2-d98e6ff9ec8e",
   "metadata": {},
   "outputs": [],
   "source": [
    "#Creating a function to download videos from YouTube\n",
    "def StartDownload():\n",
    "\n",
    "    try:\n",
    "\n",
    "        ytlink = link.getlink()\n",
    "        ytObject = YouTube(ytlink)\n",
    "        video = ytObject.streams.get_highest_resolution()\n",
    "\n",
    "        title.configure(text=ytObject.title)\n",
    "        finishlabel = customtkinter.CTkLabel(app,text='')\n",
    "        video.download()\n",
    "        \n",
    "    except:\n",
    "        finishlabel.configure(text='URL is Invalid',text_colour='white')\n",
    "        print('URL is Invalid')\n",
    "        \n",
    "    else:\n",
    "        finishlabel.configure(text='your video has been Downloaded!!!',text_colour='black')\n",
    "        print('your video has been Downloaded')\n",
    "\n",
    "\n",
    "# Graphical User Interface (GUI) settings\n",
    "customtkinter.set_appearance_mode('light')\n",
    "customtkinter.set_default_color_theme('blue')\n",
    "\n",
    "# initializing the app\n",
    "app = customtkinter.CTk()\n",
    "app.geometry('1920x1080')\n",
    "app.title('your YouTube video has been Downloader')\n",
    "\n",
    "# Adding UI elements\n",
    "title = customtkinter.CTkLabel(app,text='Please enter your YouTube video link')\n",
    "title.pack(padx=15,pady=15)\n",
    "\n",
    "## addig url box\n",
    "url = tkinter.StringVar()\n",
    "\n",
    "link = customtkinter.CTkEntry(app,width=400,height=45,textvariable=url)\n",
    "link.pack()\n",
    "\n",
    "finishlabel = customtkinter.CTkLabel(app,text='')\n",
    "\n",
    "## download button\n",
    "download = customtkinter.CTkButton(app,text='click to Download',command=StartDownload)\n",
    "download.pack(padx=15,pady=15)\n",
    " \n",
    "app.mainloop()\n"
   ]
  },
  {
   "cell_type": "code",
   "execution_count": null,
   "id": "d391aec9-1bb2-406c-805e-597aeec137bd",
   "metadata": {},
   "outputs": [],
   "source": []
  },
  {
   "cell_type": "code",
   "execution_count": null,
   "id": "d1de31a6-4661-4afe-b521-e48d32d5e7f5",
   "metadata": {},
   "outputs": [],
   "source": []
  },
  {
   "cell_type": "code",
   "execution_count": null,
   "id": "6e48cee7-6a0d-465b-9a94-c9275cf1cf86",
   "metadata": {},
   "outputs": [],
   "source": []
  },
  {
   "cell_type": "code",
   "execution_count": null,
   "id": "e1a8c591-cfe6-4d07-99a4-d12e3ba9486a",
   "metadata": {},
   "outputs": [],
   "source": []
  },
  {
   "cell_type": "code",
   "execution_count": null,
   "id": "c517c767-2fa7-4e2c-ae97-5a7da872dcd4",
   "metadata": {},
   "outputs": [],
   "source": []
  },
  {
   "cell_type": "code",
   "execution_count": null,
   "id": "016863b3-2056-4ac9-846e-216fe31a893f",
   "metadata": {},
   "outputs": [],
   "source": []
  },
  {
   "cell_type": "code",
   "execution_count": null,
   "id": "7e137b09-083b-4af5-806b-f029fca97103",
   "metadata": {},
   "outputs": [],
   "source": []
  },
  {
   "cell_type": "code",
   "execution_count": null,
   "id": "f94645be-f6e0-47ef-a574-54221d0788fb",
   "metadata": {},
   "outputs": [],
   "source": []
  }
 ],
 "metadata": {
  "kernelspec": {
   "display_name": "Python 3 (ipykernel)",
   "language": "python",
   "name": "python3"
  },
  "language_info": {
   "codemirror_mode": {
    "name": "ipython",
    "version": 3
   },
   "file_extension": ".py",
   "mimetype": "text/x-python",
   "name": "python",
   "nbconvert_exporter": "python",
   "pygments_lexer": "ipython3",
   "version": "3.11.7"
  }
 },
 "nbformat": 4,
 "nbformat_minor": 5
}
